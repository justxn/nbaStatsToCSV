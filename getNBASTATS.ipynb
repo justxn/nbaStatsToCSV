{
  "nbformat": 4,
  "nbformat_minor": 0,
  "metadata": {
    "colab": {
      "name": "getNBASTATS.ipynb",
      "provenance": [],
      "authorship_tag": "ABX9TyNEY3l5F6DT25nypXhHvOTL",
      "include_colab_link": true
    },
    "kernelspec": {
      "name": "python3",
      "display_name": "Python 3"
    },
    "language_info": {
      "name": "python"
    }
  },
  "cells": [
    {
      "cell_type": "markdown",
      "metadata": {
        "id": "view-in-github",
        "colab_type": "text"
      },
      "source": [
        "<a href=\"https://colab.research.google.com/github/justxn/nbaStatsToCSV/blob/main/getNBASTATS.ipynb\" target=\"_parent\"><img src=\"https://colab.research.google.com/assets/colab-badge.svg\" alt=\"Open In Colab\"/></a>"
      ]
    },
    {
      "cell_type": "code",
      "source": [
        "!pip install xlsxwriter"
      ],
      "metadata": {
        "id": "k2VtsYNSWFIc"
      },
      "execution_count": null,
      "outputs": []
    },
    {
      "cell_type": "code",
      "source": [
        "import requests\n",
        "import pandas as pd\n",
        "from requests.exceptions import ConnectionError, Timeout, TooManyRedirects\n",
        "from xlsxwriter import Workbook\n",
        "\n",
        "pd.set_option('display.max_columns', None)"
      ],
      "metadata": {
        "id": "cj0vmcTSv5Oh"
      },
      "execution_count": 78,
      "outputs": []
    },
    {
      "cell_type": "code",
      "source": [
        "def getAllData(traditional, advanced, h):\n",
        "  #getSeasonTraditionalData\n",
        "  try:\n",
        "    trad = requests.get(traditional, headers = h)\n",
        "    tradHeads = trad.json()['resultSets'][0]['headers']\n",
        "    tradLogs = trad.json()['resultSets'][0]['rowSet']\n",
        "  except (ConnectionError, Timeout, TooManyRedirects) as e:\n",
        "    print(e)\n",
        "  regular = pd.DataFrame(tradLogs,columns=tradHeads)\n",
        "  \n",
        "  #getAdvancedSeasonData\n",
        "  try:\n",
        "    adv = requests.get(advanced, headers = h)\n",
        "    advHeads = adv.json()['resultSets'][0]['headers']\n",
        "    advLogs = adv.json()['resultSets'][0]['rowSet']\n",
        "  except (ConnectionError, Timeout, TooManyRedirects) as e:\n",
        "    print(e)\n",
        "  regularADV = pd.DataFrame(advLogs, columns=advHeads)\n",
        "\n",
        "  #clean advanced data of redundant columns contained in regular season\n",
        "  regularADV.drop(columns=['SEASON_YEAR','PLAYER_ID','NICKNAME','TEAM_ID','TEAM_ABBREVIATION','TEAM_NAME','GAME_DATE','MATCHUP','WL','MIN','FGM','FGA','FG_PCT'],inplace=True)\n",
        "\n",
        "  #join data frames\n",
        "  df = pd.merge(regular, regularADV, on=['PLAYER_NAME','GAME_ID'])\n",
        "  return df\n",
        "  \n"
      ],
      "metadata": {
        "id": "ZQ_pdGRukntl"
      },
      "execution_count": 10,
      "outputs": []
    },
    {
      "cell_type": "markdown",
      "source": [
        "URL DATA NEEDED TO ACCESS REGULAR SEASON AND PLAYOFFS 2021-2022"
      ],
      "metadata": {
        "id": "suwHD2DdZ2C_"
      }
    },
    {
      "cell_type": "code",
      "execution_count": 11,
      "metadata": {
        "id": "a0AZwceLieKM"
      },
      "outputs": [],
      "source": [
        "regular2022URL = 'https://stats.nba.com/stats/leaguegamelog?Counter=1000&DateFrom=&DateTo=&Direction=DESC&LeagueID=00&PlayerOrTeam=P&Season=2021-22&SeasonType=Regular+Season&Sorter=DATE'\n",
        "regularADV2022URL = 'https://stats.nba.com/stats/playergamelogs?DateFrom=&DateTo=&GameSegment=&LastNGames=0&LeagueID=00&Location=&MeasureType=Advanced&Month=0&OpponentTeamID=0&Outcome=&PORound=0&PaceAdjust=N&PerMode=Totals&Period=0&PlusMinus=N&Rank=N&Season=2021-22&SeasonSegment=&SeasonType=Regular+Season&ShotClockRange=&VsConference=&VsDivision='\n",
        "playoff2022URL = 'https://stats.nba.com/stats/leaguegamelog?Counter=1000&DateFrom=&DateTo=&Direction=DESC&LeagueID=00&PlayerOrTeam=P&Season=2021-22&SeasonType=Playoffs&Sorter=DATE'\n",
        "playoffADV2022URL = 'https://stats.nba.com/stats/playergamelogs?DateFrom=&DateTo=&GameSegment=&LastNGames=0&LeagueID=00&Location=&MeasureType=Advanced&Month=0&OpponentTeamID=0&Outcome=&PORound=0&PaceAdjust=N&PerMode=Totals&Period=0&PlusMinus=N&Rank=N&Season=2021-22&SeasonSegment=&SeasonType=Playoffs&ShotClockRange=&VsConference=&VsDivision='\n",
        "\n",
        "h = {\n",
        "            'Host': 'stats.nba.com',\n",
        "            'User-Agent': 'Mozilla/5.0 (Windows NT 10.0; Win64; x64) AppleWebKit/537.36 (KHTML, like Gecko) Chrome/102.0.5005.61 Safari/537.36',\n",
        "            'Accept': 'application/json, text/plain, */*',\n",
        "            'Accept-Language': 'en-US,en;q=0.5',\n",
        "            'Referer': 'https://www.nba.com/',\n",
        "            'Accept-Encoding': 'gzip, deflate, br',\n",
        "            'Connection': 'keep-alive',\n",
        "            'x-nba-stats-origin': 'stats',\n",
        "            'x-nba-stats-token': 'true'\n",
        "        }\n"
      ]
    },
    {
      "cell_type": "markdown",
      "source": [
        "COMBINE PLAYOFF AND REGULAR SEASON DATA "
      ],
      "metadata": {
        "id": "Rmfec1XuZ-0e"
      }
    },
    {
      "cell_type": "code",
      "source": [
        "regularSeasonData = getAllData(regular2022URL, regularADV2022URL, h)\n",
        "playoffSeasonData = getAllData(playoff2022URL,playoffADV2022URL,h)\n",
        "seasonData20212022 = pd.concat([regularSeasonData,playoffSeasonData],ignore_index=True)"
      ],
      "metadata": {
        "id": "ovxL02-P0QBb"
      },
      "execution_count": 65,
      "outputs": []
    },
    {
      "cell_type": "markdown",
      "source": [
        "ORDER BY PLAYER NAME AND EARLIEST DATE PLAYED"
      ],
      "metadata": {
        "id": "I06dAXILaDBt"
      }
    },
    {
      "cell_type": "code",
      "source": [
        "seasonData20212022['GAME_DATE'] = pd.to_datetime(seasonData20212022['GAME_DATE'])\n",
        "seasonData20212022 = seasonData20212022.sort_values(['PLAYER_NAME','GAME_DATE'])"
      ],
      "metadata": {
        "id": "JXzFfvlvC1Nn"
      },
      "execution_count": 66,
      "outputs": []
    },
    {
      "cell_type": "code",
      "source": [
        "seasonData20212022 = seasonData20212022.iloc[:, :62]"
      ],
      "metadata": {
        "id": "Pt6GvLYcDiSe"
      },
      "execution_count": 67,
      "outputs": []
    },
    {
      "cell_type": "markdown",
      "source": [
        "GET GAMES PLAYED"
      ],
      "metadata": {
        "id": "qSOrsP83xqF1"
      }
    },
    {
      "cell_type": "code",
      "source": [
        "seasonData20212022['GP'] = seasonData20212022.groupby(['PLAYER_NAME']).cumcount()"
      ],
      "metadata": {
        "id": "eDi0DDV3xscm"
      },
      "execution_count": 68,
      "outputs": []
    },
    {
      "cell_type": "markdown",
      "source": [
        "CREATE DATA FRAMES TO TRANSFER TO CSV\n",
        "\n"
      ],
      "metadata": {
        "id": "vJDnDnm6yydd"
      }
    },
    {
      "cell_type": "code",
      "source": [
        "season = seasonData20212022.iloc[:, [2,6]].copy()\n",
        "last10Values = seasonData20212022.iloc[:,[2,6]].copy()\n",
        "booleanBoost = seasonData20212022.iloc[:,[2,6]].copy()\n",
        "boostScore = seasonData20212022.iloc[:,[2,6]].copy()\n",
        "baseBoosted = seasonData20212022.iloc[:,[2,6]].copy()"
      ],
      "metadata": {
        "id": "JQw8Yg4Mq8M1"
      },
      "execution_count": 69,
      "outputs": []
    },
    {
      "cell_type": "markdown",
      "source": [
        "CALCULATE SCORES AND ROLLING STATS"
      ],
      "metadata": {
        "id": "Yx7nD9iTPXNf"
      }
    },
    {
      "cell_type": "code",
      "source": [
        "scoringKeys = {'PTS':0.5, 'AST':5, 'STL':12, 'BLK':16, 'FG3M':7}"
      ],
      "metadata": {
        "id": "lLxVqzu4zFaR"
      },
      "execution_count": 70,
      "outputs": []
    },
    {
      "cell_type": "code",
      "source": [
        "#calculate base score of the game based on stats\n",
        "seasonData20212022['BASESCORE'] = seasonData20212022['PTS'] + 1.5 * seasonData20212022['AST'] + 2 * seasonData20212022['STL'] + 2 * seasonData20212022['BLK'] + seasonData20212022['REB']\n",
        "\n",
        "#loop for all scoring categories\n",
        "for i in scoringKeys:\n",
        "  #calculate season stats\n",
        "  season[i] = seasonData20212022.groupby(['PLAYER_NAME'])[i].cumsum()\n",
        "  season[i] = ((season[i] - seasonData20212022[i]) / seasonData20212022['GP']).round(2)\n",
        "\n",
        "  #calculate last 10 Value\n",
        "  last10 = seasonData20212022.groupby(['PLAYER_NAME'],as_index=False)[i].rolling(10, min_periods=1).mean()\n",
        "  last10.drop('PLAYER_NAME',axis=1, inplace=True)\n",
        "  last10Values[i] = last10.round(2)\n",
        "\n",
        "  #calculate if the player hit their boost or not between all categories\n",
        "  booleanBoost[i] = seasonData20212022[i] > last10Values[i]\n",
        "\n",
        "  #calculate the boost score the player achieved across all categories\n",
        "  boostScore.loc[booleanBoost[i] == 1, i] = ((seasonData20212022[i] - last10Values[i]) * scoringKeys[i] + 5).round(2)\n",
        "  boostScore.loc[booleanBoost[i] != 1, i] = 0\n",
        "  \n",
        "  #calculate final score based on all categories\n",
        "  baseBoosted[i] = seasonData20212022['BASESCORE'] + boostScore[i] \n"
      ],
      "metadata": {
        "id": "1-nyzlpIEf4J"
      },
      "execution_count": 71,
      "outputs": []
    },
    {
      "cell_type": "markdown",
      "source": [
        "TO CSV FILE"
      ],
      "metadata": {
        "id": "LH1tteWCOISH"
      }
    },
    {
      "cell_type": "code",
      "source": [
        "writer = pd.ExcelWriter('file.xlsx', engine='xlsxwriter')\n",
        "seasonData20212022.to_excel(writer, 'mainGameLog', index=False)\n",
        "booleanBoost.to_excel(writer, 'BooleanBoost', index=False)\n",
        "last10Values.to_excel(writer,'last10Values',index=False)\n",
        "boostScore.to_excel(writer,'boostScore',index=False)\n",
        "baseBoosted.to_excel(writer, 'baseBoosted',index=False)\n",
        "season.to_excel(writer,'seasonAverages',index=False)\n",
        "writer.save()\n",
        "writer.close()\n"
      ],
      "metadata": {
        "colab": {
          "base_uri": "https://localhost:8080/"
        },
        "id": "pt7kkgw3OH8c",
        "outputId": "4182a560-c7e3-4f73-d4a9-88f85712c446"
      },
      "execution_count": 79,
      "outputs": [
        {
          "output_type": "stream",
          "name": "stderr",
          "text": [
            "/usr/local/lib/python3.7/dist-packages/xlsxwriter/workbook.py:339: UserWarning: Calling close() on already closed file.\n",
            "  warn(\"Calling close() on already closed file.\")\n"
          ]
        }
      ]
    }
  ]
}